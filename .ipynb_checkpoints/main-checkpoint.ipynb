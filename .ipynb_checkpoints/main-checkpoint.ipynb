{
 "cells": [
  {
   "cell_type": "code",
   "execution_count": 25,
   "id": "b4bdb20b-21d8-4877-a293-13a025122750",
   "metadata": {},
   "outputs": [
    {
     "name": "stdout",
     "output_type": "stream",
     "text": [
      "b'<?xml version=\"1.0\" encoding=\"UTF-8\" ?>\\n<!DOCTYPE eSearchResult PUBLIC \"-//NLM//DTD esearch 20060628//EN\" \"https://eutils.ncbi.nlm.nih.gov/eutils/dtd/20060628/esearch.dtd\">\\n<eSearchResult><Count>112</Count><RetMax>20</RetMax><RetStart>0</RetStart><IdList>\\n<Id>35013404</Id>\\n<Id>34237644</Id>\\n<Id>33453646</Id>\\n<Id>32696817</Id>\\n<Id>32029749</Id>\\n<Id>30836914</Id>\\n<Id>29704527</Id>\\n<Id>29679856</Id>\\n<Id>29660689</Id>\\n<Id>29413989</Id>\\n<Id>29301214</Id>\\n<Id>29248440</Id>\\n<Id>29174024</Id>\\n<Id>28813102</Id>\\n<Id>28698893</Id>\\n<Id>28631525</Id>\\n<Id>28403783</Id>\\n<Id>28032511</Id>\\n<Id>27745695</Id>\\n<Id>27627067</Id>\\n</IdList><TranslationSet/><TranslationStack>   <TermSet>    <Term>CVCL[All Fields]</Term>    <Field>All Fields</Field>    <Count>43</Count>    <Explode>N</Explode>   </TermSet>   <TermSet>    <Term>1690[All Fields]</Term>    <Field>All Fields</Field>    <Count>3846</Count>    <Explode>N</Explode>   </TermSet>   <OP>AND</OP>   <OP>GROUP</OP>   <TermSet>    <Term>\"SF295\"[All Fields]</Term>    <Field>All Fields</Field>    <Count>42</Count>    <Explode>N</Explode>   </TermSet>   <OP>OR</OP>   <TermSet>    <Term>\"SF-295\"[All Fields]</Term>    <Field>All Fields</Field>    <Count>106</Count>    <Explode>N</Explode>   </TermSet>   <OP>OR</OP>   <TermSet>    <Term>\"SF 295\"[All Fields]</Term>    <Field>All Fields</Field>    <Count>106</Count>    <Explode>N</Explode>   </TermSet>   <OP>OR</OP>   <OP>GROUP</OP>   <TermSet>    <Term>\"cell line\"[All Fields]</Term>    <Field>All Fields</Field>    <Count>933524</Count>    <Explode>N</Explode>   </TermSet>   <TermSet>    <Term>\"cell-line\"[All Fields]</Term>    <Field>All Fields</Field>    <Count>933524</Count>    <Explode>N</Explode>   </TermSet>   <OP>OR</OP>   <TermSet>    <Term>\"cellular line\"[All Fields]</Term>    <Field>All Fields</Field>    <Count>81</Count>    <Explode>N</Explode>   </TermSet>   <OP>OR</OP>   <OP>GROUP</OP>   <OP>AND</OP>  </TranslationStack><QueryTranslation>((CVCL[All Fields] AND 1690[All Fields]) OR \"SF295\"[All Fields] OR \"SF-295\"[All Fields] OR \"SF 295\"[All Fields]) AND (\"cell line\"[All Fields] OR \"cell-line\"[All Fields] OR \"cellular line\"[All Fields])</QueryTranslation><WarningList><QuotedPhraseNotFound>\"CVCL 1690\"</QuotedPhraseNotFound></WarningList></eSearchResult>\\n'\n",
      "35013404\n",
      "34237644\n",
      "33453646\n",
      "32696817\n",
      "32029749\n",
      "30836914\n",
      "29704527\n",
      "29679856\n",
      "29660689\n",
      "29413989\n",
      "29301214\n",
      "29248440\n",
      "29174024\n",
      "28813102\n",
      "28698893\n",
      "28631525\n",
      "28403783\n",
      "28032511\n",
      "27745695\n",
      "27627067\n",
      "b'<?xml version=\"1.0\" encoding=\"UTF-8\" ?>\\n<!DOCTYPE eSummaryResult PUBLIC \"-//NLM//DTD esummary v1 20041029//EN\" \"https://eutils.ncbi.nlm.nih.gov/eutils/dtd/20041029/esummary-v1.dtd\">\\n<eSummaryResult>\\n<DocSum>\\n\\t<Id>6678417</Id>\\n\\t<Item Name=\"Caption\" Type=\"String\">NP_033443</Item>\\n\\t<Item Name=\"Title\" Type=\"String\">thyroid peroxidase precursor [Mus musculus]</Item>\\n\\t<Item Name=\"Extra\" Type=\"String\">gi|6678417|ref|NP_033443.1|[6678417]</Item>\\n\\t<Item Name=\"Gi\" Type=\"Integer\">6678417</Item>\\n\\t<Item Name=\"CreateDate\" Type=\"String\">2000/01/04</Item>\\n\\t<Item Name=\"UpdateDate\" Type=\"String\">2022/04/19</Item>\\n\\t<Item Name=\"Flags\" Type=\"Integer\">512</Item>\\n\\t<Item Name=\"TaxId\" Type=\"Integer\">10090</Item>\\n\\t<Item Name=\"Length\" Type=\"Integer\">914</Item>\\n\\t<Item Name=\"Status\" Type=\"String\">live</Item>\\n\\t<Item Name=\"ReplacedBy\" Type=\"String\"></Item>\\n\\t<Item Name=\"Comment\" Type=\"String\"><![CDATA[  ]]></Item>\\n\\t<Item Name=\"AccessionVersion\" Type=\"String\">NP_033443.1</Item>\\n</DocSum>\\n\\n<DocSum>\\n\\t<Id>9507199</Id>\\n\\t<Item Name=\"Caption\" Type=\"String\">NP_062226</Item>\\n\\t<Item Name=\"Title\" Type=\"String\">thyroid peroxidase precursor [Rattus norvegicus]</Item>\\n\\t<Item Name=\"Extra\" Type=\"String\">gi|9507199|ref|NP_062226.1|[9507199]</Item>\\n\\t<Item Name=\"Gi\" Type=\"Integer\">9507199</Item>\\n\\t<Item Name=\"CreateDate\" Type=\"String\">2000/07/22</Item>\\n\\t<Item Name=\"UpdateDate\" Type=\"String\">2012/03/24</Item>\\n\\t<Item Name=\"Flags\" Type=\"Integer\">512</Item>\\n\\t<Item Name=\"TaxId\" Type=\"Integer\">10116</Item>\\n\\t<Item Name=\"Length\" Type=\"Integer\">914</Item>\\n\\t<Item Name=\"Status\" Type=\"String\">replaced</Item>\\n\\t<Item Name=\"ReplacedBy\" Type=\"String\">NP_062226.2</Item>\\n\\t<Item Name=\"Comment\" Type=\"String\"><![CDATA[ This sequence has been updated. ]]></Item>\\n\\t<Item Name=\"AccessionVersion\" Type=\"String\">NP_062226.1</Item>\\n</DocSum>\\n\\n<DocSum>\\n\\t<Id>28558982</Id>\\n\\t<Item Name=\"Caption\" Type=\"String\">NP_000538</Item>\\n\\t<Item Name=\"Title\" Type=\"String\">thyroid peroxidase isoform a precursor [Homo sapiens]</Item>\\n\\t<Item Name=\"Extra\" Type=\"String\">gi|28558982|ref|NP_000538.3|[28558982]</Item>\\n\\t<Item Name=\"Gi\" Type=\"Integer\">28558982</Item>\\n\\t<Item Name=\"CreateDate\" Type=\"String\">1999/03/19</Item>\\n\\t<Item Name=\"UpdateDate\" Type=\"String\">2022/07/10</Item>\\n\\t<Item Name=\"Flags\" Type=\"Integer\">512</Item>\\n\\t<Item Name=\"TaxId\" Type=\"Integer\">9606</Item>\\n\\t<Item Name=\"Length\" Type=\"Integer\">933</Item>\\n\\t<Item Name=\"Status\" Type=\"String\">live</Item>\\n\\t<Item Name=\"ReplacedBy\" Type=\"String\"></Item>\\n\\t<Item Name=\"Comment\" Type=\"String\"><![CDATA[  ]]></Item>\\n\\t<Item Name=\"AccessionVersion\" Type=\"String\">NP_000538.3</Item>\\n</DocSum>\\n\\n<DocSum>\\n\\t<Id>28558984</Id>\\n\\t<Item Name=\"Caption\" Type=\"String\">NP_783650</Item>\\n\\t<Item Name=\"Title\" Type=\"String\">thyroid peroxidase isoform b precursor [Homo sapiens]</Item>\\n\\t<Item Name=\"Extra\" Type=\"String\">gi|28558984|ref|NP_783650.1|[28558984]</Item>\\n\\t<Item Name=\"Gi\" Type=\"Integer\">28558984</Item>\\n\\t<Item Name=\"CreateDate\" Type=\"String\">2003/02/25</Item>\\n\\t<Item Name=\"UpdateDate\" Type=\"String\">2022/07/10</Item>\\n\\t<Item Name=\"Flags\" Type=\"Integer\">512</Item>\\n\\t<Item Name=\"TaxId\" Type=\"Integer\">9606</Item>\\n\\t<Item Name=\"Length\" Type=\"Integer\">876</Item>\\n\\t<Item Name=\"Status\" Type=\"String\">live</Item>\\n\\t<Item Name=\"ReplacedBy\" Type=\"String\"></Item>\\n\\t<Item Name=\"Comment\" Type=\"String\"><![CDATA[  ]]></Item>\\n\\t<Item Name=\"AccessionVersion\" Type=\"String\">NP_783650.1</Item>\\n</DocSum>\\n\\n<DocSum>\\n\\t<Id>28558988</Id>\\n\\t<Item Name=\"Caption\" Type=\"String\">NP_783652</Item>\\n\\t<Item Name=\"Title\" Type=\"String\">thyroid peroxidase isoform d precursor [Homo sapiens]</Item>\\n\\t<Item Name=\"Extra\" Type=\"String\">gi|28558988|ref|NP_783652.1|[28558988]</Item>\\n\\t<Item Name=\"Gi\" Type=\"Integer\">28558988</Item>\\n\\t<Item Name=\"CreateDate\" Type=\"String\">2003/02/25</Item>\\n\\t<Item Name=\"UpdateDate\" Type=\"String\">2022/07/10</Item>\\n\\t<Item Name=\"Flags\" Type=\"Integer\">512</Item>\\n\\t<Item Name=\"TaxId\" Type=\"Integer\">9606</Item>\\n\\t<Item Name=\"Length\" Type=\"Integer\">889</Item>\\n\\t<Item Name=\"Status\" Type=\"String\">live</Item>\\n\\t<Item Name=\"ReplacedBy\" Type=\"String\"></Item>\\n\\t<Item Name=\"Comment\" Type=\"String\"><![CDATA[  ]]></Item>\\n\\t<Item Name=\"AccessionVersion\" Type=\"String\">NP_783652.1</Item>\\n</DocSum>\\n\\n<DocSum>\\n\\t<Id>28558990</Id>\\n\\t<Item Name=\"Caption\" Type=\"String\">NP_783653</Item>\\n\\t<Item Name=\"Title\" Type=\"String\">thyroid peroxidase isoform e precursor [Homo sapiens]</Item>\\n\\t<Item Name=\"Extra\" Type=\"String\">gi|28558990|ref|NP_783653.1|[28558990]</Item>\\n\\t<Item Name=\"Gi\" Type=\"Integer\">28558990</Item>\\n\\t<Item Name=\"CreateDate\" Type=\"String\">2003/02/25</Item>\\n\\t<Item Name=\"UpdateDate\" Type=\"String\">2022/07/10</Item>\\n\\t<Item Name=\"Flags\" Type=\"Integer\">512</Item>\\n\\t<Item Name=\"TaxId\" Type=\"Integer\">9606</Item>\\n\\t<Item Name=\"Length\" Type=\"Integer\">760</Item>\\n\\t<Item Name=\"Status\" Type=\"String\">live</Item>\\n\\t<Item Name=\"ReplacedBy\" Type=\"String\"></Item>\\n\\t<Item Name=\"Comment\" Type=\"String\"><![CDATA[  ]]></Item>\\n\\t<Item Name=\"AccessionVersion\" Type=\"String\">NP_783653.1</Item>\\n</DocSum>\\n\\n</eSummaryResult>\\n'\n"
     ]
    }
   ],
   "source": [
    "import requests\n",
    "\n",
    "#https://www.ncbi.nlm.nih.gov/books/NBK25500/#chapter1.For_More_Information_8\n",
    "\n",
    "import xml.etree.ElementTree as ET\n",
    "\n",
    "r = requests.get('https://eutils.ncbi.nlm.nih.gov/entrez/eutils/esearch.fcgi?db=pubmed&term=(\"CVCL 1690\" OR \"SF295\" OR \"SF-295\" OR \"SF 295\") AND (\"cell line\" OR \"cell-line\" OR \"cellular line\")')\n",
    "print(r.content)\n",
    "\n",
    "root = ET.fromstring(r.content)\n",
    "    \n",
    "for item in root.find('IdList'):\n",
    "    item_id = item.text\n",
    "    print(item_id)\n",
    "\n",
    "r2 = requests.get('https://eutils.ncbi.nlm.nih.gov/entrez/eutils/esummary.fcgi?db=pubmed&id=35013404,34237644')\n",
    "print(r2.content)"
   ]
  },
  {
   "cell_type": "code",
   "execution_count": null,
   "id": "80f00401-d46e-41d7-9cb3-905fcb6ecd58",
   "metadata": {},
   "outputs": [],
   "source": []
  }
 ],
 "metadata": {
  "kernelspec": {
   "display_name": "Python 3 (ipykernel)",
   "language": "python",
   "name": "python3"
  },
  "language_info": {
   "codemirror_mode": {
    "name": "ipython",
    "version": 3
   },
   "file_extension": ".py",
   "mimetype": "text/x-python",
   "name": "python",
   "nbconvert_exporter": "python",
   "pygments_lexer": "ipython3",
   "version": "3.9.12"
  }
 },
 "nbformat": 4,
 "nbformat_minor": 5
}

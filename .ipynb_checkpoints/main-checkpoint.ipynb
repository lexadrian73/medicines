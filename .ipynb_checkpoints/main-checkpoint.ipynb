{
 "cells": [
  {
   "cell_type": "markdown",
   "id": "f9e7b3b7-e670-4a43-91fa-df870812b99b",
   "metadata": {},
   "source": [
    "## Cellosaurus"
   ]
  },
  {
   "cell_type": "code",
   "execution_count": 1,
   "id": "48d21049-03dd-47ff-9639-cc38354a4898",
   "metadata": {},
   "outputs": [
    {
     "name": "stdout",
     "output_type": "stream",
     "text": [
      "CVCL_B0T9\n",
      "{'accession': 'CVCL_B0T9', 'synonym': ['Z48-5MG-70']}\n",
      "CVCL_B0T8\n",
      "{'accession': 'CVCL_B0T8', 'synonym': ['Z48-5MG-70', 'Z48-5MG-63']}\n",
      "CVCL_E548\n",
      "{'accession': 'CVCL_E548', 'synonym': ['Z48-5MG-70', 'Z48-5MG-63', '15310-LN', 'TER461', 'TER-461', 'Ter 461', 'TER479', 'TER-479', 'Ter 479', 'Extract 519']}\n"
     ]
    }
   ],
   "source": [
    "import xml.etree.ElementTree as ET\n",
    "\n",
    "#Cellosaurus\n",
    "tree = ET.parse('cell.xml')\n",
    "root = tree.getroot()\n",
    "\n",
    "\n",
    "list_syn = []\n",
    "for i in root.find('cell-line-list'):\n",
    "    for j in i.find('accession-list'):\n",
    "        print(j.text)\n",
    "        \n",
    "    for k in i.find('name-list'):\n",
    "        if k.get('type') == \"synonym\":\n",
    "            list_syn.append(k.text)\n",
    "            \n",
    "    print({'accession': j.text,'synonym': list_syn})"
   ]
  },
  {
   "cell_type": "markdown",
   "id": "a8ee24de-7abe-4201-895d-e70025f1fdd2",
   "metadata": {},
   "source": [
    "## PubMed"
   ]
  },
  {
   "cell_type": "code",
   "execution_count": 5,
   "id": "33c957f6-a8a0-4e3e-96b2-d653b77007d0",
   "metadata": {},
   "outputs": [
    {
     "name": "stdout",
     "output_type": "stream",
     "text": [
      "[35013404, 34237644, 33453646, 32696817, 32029749, 30836914, 29704527, 29679856, 29660689, 29413989, 29301214, 29248440, 29174024, 28813102, 28698893, 28631525, 28403783, 28032511, 27745695, 27627067]\n",
      "{35013404: 'The schweinfurthin family of natural compounds exhibit a unique and potent differential cytotoxicity against a number of cancer cell lines and may reduce tumor growth in vivo. In some cell lines, such as SF-295 glioma cells, schweinfurthins elicit cytotoxicity at nanomolar concentrations. However, other cell lines, like A549 lung cancer cells, are resistant to schweinfurthin treatment up to micromolar concentrations. At this time, the precise mechanism of action and target for these compounds is unknown. Here, we employ RNA sequencing of cells treated with 50\\xa0nM schweinfurthin analog TTI-3066 for 6 and 24\\xa0h to elucidate potential mechanisms and pathways which may contribute to schweinfurthin sensitivity and resistance. The data was analyzed via an interaction model to observe differential behaviors between sensitive SF-295 and resistant A549 cell lines. We show that metabolic and stress-response pathways were differentially regulated in the sensitive SF-295 cell line as compared with the resistant A549 cell line. In contrast, A549 cell had significant alterations in response genes involved in translation and protein metabolism. Overall, there was a significant interaction effect for translational proteins, RNA metabolism, protein metabolism, and metabolic genes. Members of the Hedgehog pathway were differentially regulated in the resistant A549 cell line at both early and late time points, suggesting a potential mechanism of resistance. Indeed, when cotreated with the Smoothened inhibitor cyclopamine, A549 cells became more sensitive to schweinfurthin treatment. This study therefore identifies a key interplay with the Hedgehog pathway that modulates sensitivity to the schweinfurthin class of compounds.', 34237644: 'A series of novel hybrid compounds of hexahydrobenzo[4,5]thieno[2,3-d]pyrimidine with aminothiazole scaffolds were synthesized. The synthesized compounds were evaluated for their cytotoxic activity against the NCI-60 human tumor cell line panel. Compounds 7c, 7d and 7e exhibited significant antiproliferative activities at 10<sup>-5</sup> M dose. Compound 7c exhibited excellent cytotoxic activity against CNS cancer cell lines including SNB-75 and SF-295 as well as renal cancer cell line CAKI-1 when compared with sorafenib as standard anticancer drug. In addition, compound 7d showed almost comparable anticancer activity to sorafenib against SNB-75 cell line and displayed moderate activity against SF-295 and CAKI-1 cell lines in comparison to sorafenib. Compound 7c inhibited the vascular endothelial growth factor receptor 2 (VEGFR-2) with IC<sub>50</sub> of 62.48\\xa0±\\xa03.7\\xa0nM and decreased both total VEGFR-2 and phosphorylated VEGFR-2 in treated SNB-75 cells suggesting its ability to down regulate cell proliferation, growth, and survival.. The flow cytometric analysis showed that 7c displayed its cytotoxic activity through the reduction of the cellular proliferation and induction of cell cycle arrest at the G2/M phase. Compound 7c clearly boosted the level of the apoptotic caspase-3. All the synthesized compounds were also screened for their antibacterial and antifungal activity against four pathogenic strains of both Gram-positive and Gram-negative as well as Candida albicans. Only compound 7d exhibited antifungal activity against Candida albicans compared to nystatin as the standard antifungal compound.', 33453646: 'Natural pterocarpans and synthetic 5-carba-pterocarpans are isosteres in which the oxygen atom at position 5 in the pyran-ring of pterocarpans is replaced by a methylene group. These 5-carba-analogues were obtained in good yields through the palladium-catalyzed oxyarylation of alcoxy-1,2-dihydronaphthalens with o-iodophenols in PEG-400. They were evaluated on human cancer cell lineages derived respectively from prostate tumor (PC3, IC<sub>50</sub>\\xa0=\\xa011.84\\xa0μmol L<sup>-1</sup>, SI\\xa0>\\xa012)) and acute myeloid leukemia (HL-60, IC<sub>50</sub>\\xa0=\\xa08.81\\xa0μmol L<sup>-1</sup>, SI\\xa0>\\xa016), highly incident cancer types presenting resistance against traditional chemotherapeutics. Compound 6c (LQB-492) was the most potent (IC<sub>50</sub>\\xa0=\\xa03.85\\xa0μmol L<sup>-1</sup>, SI\\xa0>\\xa037) in SF-295 cell lineage (glioblastoma). Such findings suggest that 5-carba-pterocarpan can potentially be new hit compounds for further development of novel antiproliferative agents.', 32696817: \"In this paper, we complement our previous study on the antiproliferative activity of Calea fruticosa (Asteraceae) by isolating the compounds apigenin-4',7-dimethyl ether (1), budlein A (2), quercetin (3), and cichoriin (4) from the plant's aerial parts. The antiproliferative activity of these compounds was evaluated by the 3-(4,5-dimethylthiazol-2-yl)-2,5-diphenyltetrazolium bromide (MTT) method against human tumor cell lines. Compound 3 displayed moderate antiproliferative activity in three cell lines (HCT-116, PC-3, and SF-295, with cell growth inhibition values of 72.97, 74.55, and 68.94%) and high antiproliferative activity (90.86%) in the HL-60 cell line. The in vitro sun protection factor (SPF) of the extracts and compound 4, with and without sunscreen, was determined by a spectrophotometric method. The ethanol extract exhibited the highest SPF (9.67) at a concentration of 0.100 mg/mL, while compound 4, isolated from this extract, showed a SPF of 13.79 at the same concentration. A relative increased efficacy of SPF was observed for the extracts and compound 4 when sunscreen was also used. Compound 4 has not been reported previously from any species within the genus Calea. Compounds 1-4 were obtained from this species for the first time.\", 32029749: \"Although metallothionein-3 (MT3), a brain-enriched form of metallothioneins, has been linked to Alzheimer's disease, little is known regarding the role of MT3 in glioma. As MT3 plays a role in autophagy in astrocytes, here, we investigated its role in irradiated glioma cells. Irradiation increased autophagy flux in GL261 glioma cells as evidenced by increased levels of LC3-II but decreased levels of p62 (SQSTM1). Indicating that autophagy plays a cytoprotective role in glioma cell survival following irradiation, measures inhibiting autophagy flux at various steps decreased their clonogenic survival of irradiated GL261 as well as SF295 and U251 glioma cells. Knockdown of MT3 with siRNA in irradiated glioma cells induced arrested autophagy, and decreased cell survival. At the same time, the accumulation of labile zinc in lysosomes was markedly attenuated by MT3 knockdown. Indicating that such zinc accumulation was important in autophagy flux, chelation of zinc with tetrakis-(2-pyridylmethyl)ethylenediamine (TPEN), induced arrested autophagy in and reduced survival of GL261 cells following irradiation. Suggesting a possible mechanism for arrested autophagy, MT3 knockdown and zinc chelation were found to impair lysosomal acidification. Since autophagy flux plays a cytoprotective role in irradiated glioma cells, present results suggest that MT3 and zinc may be regarded as possible therapeutic targets to sensitize glioma cells to ionizing radiation therapy.\", 30836914: StringElement('Background and Introduction: Mefloquine, a drug used to prevent and treat malaria is described possessing activity against the Mycobacterium tuberculosis (Mtb) as well as against multidrugresistant tuberculosis (MDR) and other types of bacteria. Despite their importance, few compounds based on the Mefloquine nucleus have been synthesized and evaluated against TB.', attributes={'Label': 'UNLABELLED'}), 29704527: 'Glioblastoma is the most common and aggressive glioma, characterized by brain invasion capability. Being very resistant to the current therapies, since even under treatment, surgery, and chemotherapy with temozolomide (TMZ), patients achieve a median survival of one year. In the search for more effective therapies, new molecules have been designed. For nervous system cancers, molecules able to cross the blood-brain barrier are handled with priority. Accordingly, tacrine was chosen for this study and the inclusion of spiro-heterocyclic rings was done in its structure resulting in new compounds. Cytotoxic activity of tacrine derivatives was assayed using glioblastoma cell line (SF295) as well as analyzing cell death mechanism. Increased caspases activities were observed, confirming apoptosis as cell death type. Some derivatives also increased reactive oxygen species formation and decreased the mitochondrial membrane potential. Moreover, compounds acted on several glioblastoma-related proteins including p53, HLA-DR, beta-catenin, Iba-1, MAP2c, Olig-2, and IDH1. Therefore, tacrine derivatives presented promising results for the development of new glioblastoma therapy, particularly to treat those patients resistant to TMZ.', 29679856: 'Although great progress has been made in treatment regimens, gliomas are still incurable and the 5-year survival remains poor. Studies focusing on molecules that regulate tumorigenesis or tumor immunity may provide potential therapeutic strategies for patients with glioma. B7-H6 is selectively expressed in tumor cells and plays vital roles in host immune responses. In this study, we demonstrated that B7-H6 was expressed in glioma cell lines, including CRT, U251, SHG-44, SF-295, TG-905 and U373, and tumor tissues isolated from glioma patients. Moreover, the expression levels of B7-H6 were significantly correlated with glioma grade. Previous studies reported that inflammatory mediators and cytokines induced the expression of B7 family members including programmed death-ligand 1, B7-H2 and B7-H4. Therefore, we explored the regulation of B7-H6 expression in gliomas and showed that lipopolysaccharide induced the expression of B7-H6 in glioma cells. To further analyze the roles of B7-H6 in gliomas, the expression of B7-H6 in glioma cells was knocked down. The results of cell counting kit-8, colony formation, wound healing, and transwell migration and invasion assays demonstrated that the proliferation, migration and invasion of glioma cells were inhibited after knocking down B7-H6. To elucidate the specific mechanisms of B7-H6 function in cancer progression, we examined the expression levels of proteins involved in cell apoptosis, migration and invasion. We demonstrated that the expression levels of E-cadherin and Bcl-2 associated X protein increased, and the expression levels of vimentin, N-cadherin, matrix metalloproteinase-2, matrix metalloproteinase-9 and survivin decreased after knocking down B7-H6. In conclusion, B7-H6 plays important roles in glioma, and targeting B7-H6 may provide a novel therapeutic strategy for glioma patients.', 29660689: 'Morita-Baylis-Hillman acetates and α-bromonitroalkenes have been employed in cascade reactions with lawsone and 2-aminonaphthoquinone for the one-pot synthesis of heterocycle fused quinonoid compounds. The reactions reported here utilized the 1,3-binucleophilic potential of hydroxy- and aminonaphthoquinones and the 1,2/1,3-bielectrophilic potential of bromonitroalkenes and Morita-Baylis-Hillman acetates for the synthesis of pyrrole and furan fused naphthoquinones. The synthesized compounds were evaluated against HCT-116 (human colon carcinoma cells), PC3 (human prostate cancer cells), HL-60 (human promyelocytic leukemia cells), SF295 (human glioblastoma cells) and NCI-H460 (human lung cancer cells) and exhibited antitumor activity with IC<sub>50</sub> values as low as\\u202f<\\u202f2\\u202fμM. Selected compounds were also evaluated against OVCAR-8 (ovary), MX-1 (breast) and JURKAT (leukemia) cell lines. The cytotoxic potential of the quinones evaluated was also assayed using non-tumor cells, exemplified by peripheral blood mononuclear (PBMC) and L929\\u202fcells.', 29413989: 'The cytotoxic activity of the pimarane diterpene annonalide (1) and nine of its semisynthetic derivatives (2-10) was investigated against the human tumor cell lines HL-60 (leukemia), PC-3 (prostate adenocarcinoma), HepG2 (hepatocellular carcinoma), SF-295 (glioblastoma) and HCT-116 (colon cancer), and normal mouse fibroblast (L929) cells. The preparation of 2-10 involved derivatization of the side chain of 1 at C-13. Except for 2, all derivatives are being reported for the first time. Most of the tested compounds presented IC<sub>50</sub>s below 4.0\\u202fμM, being considered potential antitumor agents. The structures of all new compounds were elucidated by spectroscopic analyses including 2D NMR and HRMS. Additionally, the interaction of annonalide (1) with ctDNA was evaluated using spectroscopic techniques, and the formation of a supramolecular complex with the macromolecule was confirmed. Competition assays with fluorescent probes (Hoechst and ethidium bromide) and theoretical studies confirmed that 1 interacts preferentially via DNA intercalation with stoichiometric ratio of 1:1 (1:ctDNA). The ΔG value was calculated as -28.24\\u202fkJ\\u202fmol<sup>-1</sup>, and indicated that the interaction process occurs spontaneously. Docking studies revealed that van der Walls is the most important interaction in 1-DNA and EB-DNA complexes, and that both ligands (1 and EB) interact with the same DNA residues (DA6, DA17 and DT19).', 29301214: 'In continuation of our quest for new redox-modulating catalytic antitumor molecules, selenium-containing quinone-based 1,2,3-triazoles were synthesized using rhodium-catalyzed C-H bond activation and click reactions. All compounds were evaluated against five types of cancer cell lines: HL-60 (human promyelocytic leukemia cells), HCT-116 (human colon carcinoma cells), SF295 (human glioblastoma cells), NCIH-460 (human lung cells) and PC3 (human prostate cancer cells). Some compounds showed good activity with IC<sub>50</sub> values below 1 µM. The cytotoxic potential of the naphthoquinoidal derivatives was also evaluated in non-tumor cells, exemplified by L929 cells. Overall, these compounds represent promising new lead derivatives and stand for a new class of chalcogenium-containing derivatives with potential antitumor activity.', 29248440: StringElement('Maintenance of acid-base homeostasis is required for normal physiology, metabolism, and development. It is not clear how cell death is activated in response to changes in pH. We performed a screen to identify agents that induce cell death in a pH-dependent manner (we call this alkaliptosis) in pancreatic ductal adenocarcinoma cancer (PDAC) cells and tested their effects in mice.', attributes={'Label': 'BACKGROUND & AIMS'}), 29174024: 'The use of natural products in therapeutics has been growing over the years. Lignans are compounds with large pharmaceutical use, which has aroused interest in the search for new drugs to treat diseases. The present study evaluated the cytotoxicity of (-)-trachelogenin, a dibenzylbutyrolactone type lignan isolated from Combretum fruticosum, against several tumor and non-tumor cell lines using the MTT assay and its possible mechanism of action. (-)-Trachelogenin showed IC<sub>50</sub> values ranging of 0.8-32.4μM in SF-295 and HL-60 cell lines, respectively and IC<sub>50</sub> values >64μM in non-tumor cell lines. (-)-trachelogenin persistently induced autophagic cell death, with cytoplasmic vacuolization and formation of autophagosomes mediated by increasing LC3 activation and altering the expression levels of Beclin-1.', 28813102: 'Natural steroids and triterpenes such as b-sitosterol, stigmasterol, lupeol, ursolic and betulinic acids were transformed into its hexanoic and oleic esters, to evaluate the influence of chemical modification towards the cytotoxic activities against tumor cells. The derivatives were evaluated against five tumor cell lines [OVCAR-8 (ovarian carcinoma); SF-295 (glioblastoma); HCT-116 (colon adenocarcinoma); HL-60 (leukemia); and PC-3 (prostate carcinoma)] and the results showed only betulinic acid hexyl ester exhibits cytotoxic potential activity.', 28698893: 'The role of chitinases from the latex of medicinal shrub Calotropis procera on viability of tumor cell lines and inflammation was investigated. Soluble latex proteins were fractionated in a CM Sepharose Fast-Flow Column and the major peak (LPp1) subjected to ion exchange chromatography using a Mono-Q column coupled to an FPLC system. In a first series of experiments, immortalized macrophages were cultured with LPp1 for 24\\xa0h. Then, cytotoxicity of chitinase isoforms (LPp1-P1 to P6) was evaluated against HCT-116 (colon carcinoma), OVCAR-8 (ovarian carcinoma), and SF-295 (glioblastoma) tumor cell lines in 96-well plates. Cytotoxic chitinases had its anti-inflammatory potential assessed through the mouse peritonitis model. We have shown that LPp1 was not toxic to macrophages at dosages lower than 125\\xa0μg/mL but induced high messenger RNA expression of IL-6, IL1-β, TNF-α, and iNOs. On the other hand, chitinase isoform LPp1-P4 retained all LPp1 cytotoxic activities against the tumor cell lines with IC<sub>50</sub> ranging from 1.2 to 2.9\\xa0μg/mL. The intravenous administration of LPp1-P4 to mouse impaired neutrophil infiltration into the peritoneal cavity induced by carrageenan. Although the contents of pro-inflammatory cytokines IL-6, TNF-α, and IL1-β were high in the bloodstreams, such effect was reverted by administration of iNOs inhibitors NG-nitro-L-arginine methyl ester and aminoguanidine. We conclude that chitinase isoform LPp1-P4 was highly cytotoxic to tumor cell lines and capable to reduce inflammation by an iNOs-derived NO mechanism.', 28631525: StringElement('Propolis has promising biological activities. Propolis samples from the Northeast of Bahia, Brazil - sample A from Ribeira do Pombal and B, from Tucano - were investigated, with new information regarding their biological activities.', attributes={'Label': 'CONTEXT', 'NlmCategory': 'BACKGROUND'}), 28403783: StringElement('Naphthalene is a good structural replacement for the isovanillin moiety (i.e. the 3- hydroxy-4-methoxyphenyl unit) in the combretastatin A-4 molecule, a natural product structurally related to resveratrol, which consistently led to the generation of highly cytotoxic naphthalene analogues when combined with a 3,4,5-trimethoxyphenyl or related aromatic system. Also, the naphthalene ring system is present in many current drug molecules that are utilized for anti-tumor, anti-arrhythmia and antioxidant therapy.', attributes={'Label': 'BACKGROUND'}), 28032511: 'Two novel compounds bearing heterocyclic nitrogen, 2-pyridone alkaloid (1) and alloxazine derivative (2), along with the known pretenellin B (3), pyridovericin (4) and lumichrome (5) were isolated from a culture of the entomopathogenic fungal strain Beauveria bassiana. The chemical structures of 2-pyridone alkaloid and alloxazine derivative were established on the basis of the interpretation of spectroscopic data. The isolated compounds were evaluated in a panel of five cancer cell lines and pyridovericin exhibited cytotoxicity (IC<sub>50</sub>, μM) against cancer cell lines: HL-60 (25.9\\xa0±\\xa00.3), HCT8 (34.6\\xa0±\\xa03.6), MDA-MB435 (34.8\\xa0±\\xa03.8) and SF295 (31.1\\xa0±\\xa00.6). Considering that other pyridone compounds display good cytotoxic activity, it would be suggested to obtain new semi synthetic derivatives of pyridovericin, for the development of new cytotoxic chemical entities.', 27745695: 'Five new xanthones, named coxanthones A-E (1-5), together with 21 known secondary metabolites (6-26) that include seven xanthones, five flavonoids, two steroids and seven triterpenoids were isolated from the chemically unexplored whole plant Codonopsis ovata. The structures of new metabolites were elucidated by HRMS, interpretation of NMR spectra and other spectroscopic techniques. The absolute configuration of the stereogenic centre of coxanthone B (2) was determined by electronic circular dichroism (ECD) spectroscopy. This is the first report of xanthones from the genus Codonopsis. All isolated metabolites were evaluated for cytotoxic activity by SRB assay against six human cancer cell lines A549 (lung), PC-3 (prostate), HCT-116 (colon), MCF-7 (breast), SF-295 (CNS), and MDAMB-435 (melanoma). Among the new compounds, coxanthone B (2) exhibited significant inhibitory activity against SF-295 and MDAMB-435 with IC<sub>50</sub> values of 7.0 and 15.0\\xa0μM, respectively. Coxanthone A (1) displayed cytotoxicity against A549\\xa0cell line at IC<sub>50</sub> value of 22.5\\xa0μM. Cytotoxic activity of 1-hydroxy-3,5-dimethoxyxanthone (7), swertiperenine (9) and 1,7,8-trihydroxy-3-methoxyxanthone (10) are reported here first time that exhibited the IC<sub>50</sub> values of 3.0, 5.0 and 21.0\\xa0μM against A549, MDAMB-435, and A549\\xa0cell lines, respectively. Kaempferol (13) showed most potent cytotoxic activity with an IC<sub>50</sub> values in the 1.0-2.3\\xa0μM range against all tested cancer cell lines.', 27627067: 'The objective of this study was to evaluate the antiproliferative, cytotoxic and genotoxic potential of salty liquid synthetic flavorings of Butter, Cheddar Cheese and Onion. The antiproliferative potential (2.9-1500 µg/mL) was assessed by MTT assay after 72h using the human tumor lines SF-295 (glioblastoma), OVCAR-8 (ovarian), HCT-116 (colon) and HL-60 (promyelocytic leukemia) and primary cultures of murine Sarcoma 180 (S180) and peripheral blood mononuclear cells (PBMC). Allium cepa bulbs were exposed to growing respective doses (1 mL and 2 mL). Only Butter and Cheddar flavorings revealed cytotoxic activity on cancer cells, with IC50 values ranging from 125.4 µg/mL (Cheddar - HCT-116) to 402.6 µg/mL (Butter - OVCAR-8). Butter flavoring was the most cytotoxic on PBMC (136.3 µg/mL) and increased cell division rate in relation to the mitotic index but did not cause cellular aberrations. Onion and Cheddar flavorings reduced the mitotic index after 24h and 48h exposure, but only Onion flavoring resulted in cellular aberrations and mitotic spindle abnormalities, such as anaphase and telophase bridges, micronucleated cells, conchicine-metaphases and amplifications. So, Butter, Onion and/or Cheddar flavorings caused significant changes in the division of meristematic cells of A. cepa and presented cytotoxic action even on decontrolled proliferating human tumor cells.'}\n",
      "[]\n"
     ]
    }
   ],
   "source": [
    "import json\n",
    "\n",
    "from Bio import Entrez\n",
    "\n",
    "Entrez.email = 'alexis.miranda@epn.edu.ec'\n",
    "\n",
    "string_search = Entrez.read( Entrez.esearch( db=\"pubmed\", term='(\"CVCL 1690\" OR \"SF295\" OR \"SF-295\" OR \"SF 295\") AND (\"cell line\" OR \"cell-line\" OR \"cellular line\")' ))\n",
    "#https://stackoverflow.com/questions/70647568/parse-xml-file-with-nested-elements\n",
    "\n",
    "pudmed_ids = [ int(id) for id in string_search['IdList'] ]\n",
    "print(pudmed_ids)\n",
    "\n",
    "pudmed_ids_search = Entrez.efetch(db=\"pubmed\", id=','.join(map(str, pudmed_ids)), rettype=\"xml\", retmode=\"text\")\n",
    "result_pudmed_ids_search = Entrez.read(pudmed_ids_search)\n",
    "\n",
    "abstract_dict = {}\n",
    "no_abstract_dict = []\n",
    "\n",
    "for pubmed_article in result_pudmed_ids_search['PubmedArticle']:\n",
    "    pudmed_id = int(str(pubmed_article['MedlineCitation']['PMID']))\n",
    "    title = pubmed_article['MedlineCitation']['Article']['ArticleTitle']\n",
    "    article = pubmed_article['MedlineCitation']['Article']\n",
    "    if 'Abstract' in article:\n",
    "        abstract = article['Abstract']['AbstractText'][0]\n",
    "        abstract_dict[pudmed_id] = abstract\n",
    "    else:\n",
    "        no_abstract_dict.append(pmid)\n",
    "\n",
    "print(abstract_dict)\n",
    "print(without_abstract)"
   ]
  },
  {
   "cell_type": "code",
   "execution_count": null,
   "id": "c970ff74-5580-422c-a687-3517f3532c27",
   "metadata": {},
   "outputs": [],
   "source": []
  },
  {
   "cell_type": "code",
   "execution_count": null,
   "id": "9916ae3a-d2ea-40d7-8f25-f1cb3065521e",
   "metadata": {},
   "outputs": [],
   "source": []
  }
 ],
 "metadata": {
  "kernelspec": {
   "display_name": "Python 3 (ipykernel)",
   "language": "python",
   "name": "python3"
  },
  "language_info": {
   "codemirror_mode": {
    "name": "ipython",
    "version": 3
   },
   "file_extension": ".py",
   "mimetype": "text/x-python",
   "name": "python",
   "nbconvert_exporter": "python",
   "pygments_lexer": "ipython3",
   "version": "3.9.13"
  }
 },
 "nbformat": 4,
 "nbformat_minor": 5
}

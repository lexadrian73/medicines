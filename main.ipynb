{
 "cells": [
  {
   "cell_type": "markdown",
   "id": "c0f4755d-feb3-4df3-ad45-0b1f781f0cea",
   "metadata": {},
   "source": [
    "### Lineas Celulares\n",
    "#### Nombre\n",
    "Descripcion"
   ]
  },
  {
   "cell_type": "code",
   "execution_count": 24,
   "id": "7509ca32-6ce9-47fa-ab7f-ba5de9e1c907",
   "metadata": {
    "tags": []
   },
   "outputs": [
    {
     "name": "stdout",
     "output_type": "stream",
     "text": [
      "[35013404, 34237644, 33453646, 32696817, 32029749, 30836914, 29704527, 29679856, 29660689, 29413989, 29301214, 29248440, 29174024, 28813102, 28698893, 28631525, 28403783, 28032511, 27745695, 27627067]\n"
     ]
    }
   ],
   "source": [
    "import requests\n",
    "import json\n",
    "\n",
    "#https://www.ncbi.nlm.nih.gov/books/NBK25500/#chapter1.For_More_Information_8\n",
    "\n",
    "import xml.etree.ElementTree as ET\n",
    "\n",
    "#r = requests.get('https://eutils.ncbi.nlm.nih.gov/entrez/eutils/esearch.fcgi?db=pubmed&term=(\"CVCL 1690\" OR \"SF295\" OR \"SF-295\" OR \"SF 295\") AND (\"cell line\" OR \"cell-line\" OR \"cellular line\")')\n",
    "#print(r.content)\n",
    "\n",
    "#root = ET.fromstring(r.content)\n",
    "    \n",
    "#for item in root.find('IdList'):\n",
    "#    item_id = item.text\n",
    "#    print(item_id)\n",
    "\n",
    "#cell_line = input(\"Ingrese la linea Celular\")ç\n",
    "#response = requests.get('https://eutils.ncbi.nlm.nih.gov/entrez/eutils/efetch.fcgi?db=pubmed&id=35013404,34237644')\n",
    "#response = requests.get('https://eutils.ncbi.nlm.nih.gov/entrez/eutils/efetch.fcgi?db=pubmed&id=35013404')\n",
    "#print(response.text)\n",
    "\n",
    "from Bio import Entrez\n",
    "\n",
    "\n",
    "example_paper = Entrez.read( Entrez.esummary(db=\"pubmed\", id='23144668') )[0]\n",
    "\n",
    "#def print_dict( p ):\n",
    "#    for k,v in p.items():\n",
    "#        print(k)\n",
    "#        print('\\t', v)\n",
    "\n",
    "#print_dict(example_paper)\n",
    "\n",
    "\n",
    "#example_search = Entrez.read( Entrez.esearch( db=\"pubmed\", term=' AND '.join([a+'[AUTH]' for a in example_authors]) ) )\n",
    "example_search = Entrez.read( Entrez.esearch( db=\"pubmed\", term='(\"CVCL 1690\" OR \"SF295\" OR \"SF-295\" OR \"SF 295\") AND (\"cell line\" OR \"cell-line\" OR \"cellular line\")' ))\n",
    "example_search\n",
    "example_ids = [ int(id) for id in example_search['IdList'] ]\n",
    "print(example_ids)"
   ]
  },
  {
   "cell_type": "code",
   "execution_count": null,
   "id": "04411281-1ced-48dc-808c-92679e82fd1a",
   "metadata": {},
   "outputs": [],
   "source": []
  }
 ],
 "metadata": {
  "kernelspec": {
   "display_name": "Python 3 (ipykernel)",
   "language": "python",
   "name": "python3"
  },
  "language_info": {
   "codemirror_mode": {
    "name": "ipython",
    "version": 3
   },
   "file_extension": ".py",
   "mimetype": "text/x-python",
   "name": "python",
   "nbconvert_exporter": "python",
   "pygments_lexer": "ipython3",
   "version": "3.9.13"
  }
 },
 "nbformat": 4,
 "nbformat_minor": 5
}

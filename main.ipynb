{
 "cells": [
  {
   "cell_type": "markdown",
   "id": "f9e7b3b7-e670-4a43-91fa-df870812b99b",
   "metadata": {},
   "source": [
    "## Cellosaurus"
   ]
  },
  {
   "cell_type": "code",
   "execution_count": 49,
   "id": "48d21049-03dd-47ff-9639-cc38354a4898",
   "metadata": {},
   "outputs": [
    {
     "name": "stdout",
     "output_type": "stream",
     "text": [
      "[35013404, 34237644, 33453646, 32696817, 32029749, 30836914, 29704527, 29679856, 29660689, 29413989, 29301214, 29248440, 29174024, 28813102, 28698893, 28631525, 28403783, 28032511, 27745695, 27627067]\n"
     ]
    }
   ],
   "source": [
    "import xml.etree.ElementTree as ET\n",
    "\n",
    "#Cellosaurus\n",
    "tree = ET.parse('cell.xml')\n",
    "root = tree.getroot()\n",
    "\n",
    "\n",
    "list_syn = []\n",
    "for i in root.find('cell-line-list'):\n",
    "    for j in i.find('accession-list'):\n",
    "        print(j.text)\n",
    "        \n",
    "    for k in i.find('name-list'):\n",
    "        if k.get('type') == \"synonym\":\n",
    "            list_syn.append(k.text)\n",
    "            \n",
    "    print({'accession': j.text,'synonym': list_syn})"
   ]
  },
  {
   "cell_type": "markdown",
   "id": "a8ee24de-7abe-4201-895d-e70025f1fdd2",
   "metadata": {},
   "source": [
    "## PudMed"
   ]
  },
  {
   "cell_type": "code",
   "execution_count": null,
   "id": "33c957f6-a8a0-4e3e-96b2-d653b77007d0",
   "metadata": {},
   "outputs": [],
   "source": [
    "import json\n",
    "\n",
    "from Bio import Entrez\n",
    "\n",
    "Entrez.email = 'alexis.miranda@epn.edu.ec'\n",
    "\n",
    "string_search = Entrez.read( Entrez.esearch( db=\"pubmed\", term='(\"CVCL 1690\" OR \"SF295\" OR \"SF-295\" OR \"SF 295\") AND (\"cell line\" OR \"cell-line\" OR \"cellular line\")' ))\n",
    "#https://stackoverflow.com/questions/70647568/parse-xml-file-with-nested-elements\n",
    "\n",
    "search_ids = [ int(id) for id in string_search['IdList'] ]\n",
    "print(search_ids)"
   ]
  }
 ],
 "metadata": {
  "kernelspec": {
   "display_name": "Python 3 (ipykernel)",
   "language": "python",
   "name": "python3"
  },
  "language_info": {
   "codemirror_mode": {
    "name": "ipython",
    "version": 3
   },
   "file_extension": ".py",
   "mimetype": "text/x-python",
   "name": "python",
   "nbconvert_exporter": "python",
   "pygments_lexer": "ipython3",
   "version": "3.9.13"
  }
 },
 "nbformat": 4,
 "nbformat_minor": 5
}

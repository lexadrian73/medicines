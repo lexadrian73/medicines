{
 "cells": [
  {
   "cell_type": "code",
   "execution_count": 26,
   "id": "b4bdb20b-21d8-4877-a293-13a025122750",
   "metadata": {},
   "outputs": [
    {
     "name": "stdout",
     "output_type": "stream",
     "text": [
      "b'<?xml version=\"1.0\" encoding=\"UTF-8\" ?>\\n<!DOCTYPE eSearchResult PUBLIC \"-//NLM//DTD esearch 20060628//EN\" \"https://eutils.ncbi.nlm.nih.gov/eutils/dtd/20060628/esearch.dtd\">\\n<eSearchResult><Count>112</Count><RetMax>20</RetMax><RetStart>0</RetStart><IdList>\\n<Id>35013404</Id>\\n<Id>34237644</Id>\\n<Id>33453646</Id>\\n<Id>32696817</Id>\\n<Id>32029749</Id>\\n<Id>30836914</Id>\\n<Id>29704527</Id>\\n<Id>29679856</Id>\\n<Id>29660689</Id>\\n<Id>29413989</Id>\\n<Id>29301214</Id>\\n<Id>29248440</Id>\\n<Id>29174024</Id>\\n<Id>28813102</Id>\\n<Id>28698893</Id>\\n<Id>28631525</Id>\\n<Id>28403783</Id>\\n<Id>28032511</Id>\\n<Id>27745695</Id>\\n<Id>27627067</Id>\\n</IdList><TranslationSet/><TranslationStack>   <TermSet>    <Term>CVCL[All Fields]</Term>    <Field>All Fields</Field>    <Count>43</Count>    <Explode>N</Explode>   </TermSet>   <TermSet>    <Term>1690[All Fields]</Term>    <Field>All Fields</Field>    <Count>3846</Count>    <Explode>N</Explode>   </TermSet>   <OP>AND</OP>   <OP>GROUP</OP>   <TermSet>    <Term>\"SF295\"[All Fields]</Term>    <Field>All Fields</Field>    <Count>42</Count>    <Explode>N</Explode>   </TermSet>   <OP>OR</OP>   <TermSet>    <Term>\"SF-295\"[All Fields]</Term>    <Field>All Fields</Field>    <Count>106</Count>    <Explode>N</Explode>   </TermSet>   <OP>OR</OP>   <TermSet>    <Term>\"SF 295\"[All Fields]</Term>    <Field>All Fields</Field>    <Count>106</Count>    <Explode>N</Explode>   </TermSet>   <OP>OR</OP>   <OP>GROUP</OP>   <TermSet>    <Term>\"cell line\"[All Fields]</Term>    <Field>All Fields</Field>    <Count>933524</Count>    <Explode>N</Explode>   </TermSet>   <TermSet>    <Term>\"cell-line\"[All Fields]</Term>    <Field>All Fields</Field>    <Count>933524</Count>    <Explode>N</Explode>   </TermSet>   <OP>OR</OP>   <TermSet>    <Term>\"cellular line\"[All Fields]</Term>    <Field>All Fields</Field>    <Count>81</Count>    <Explode>N</Explode>   </TermSet>   <OP>OR</OP>   <OP>GROUP</OP>   <OP>AND</OP>  </TranslationStack><QueryTranslation>((CVCL[All Fields] AND 1690[All Fields]) OR \"SF295\"[All Fields] OR \"SF-295\"[All Fields] OR \"SF 295\"[All Fields]) AND (\"cell line\"[All Fields] OR \"cell-line\"[All Fields] OR \"cellular line\"[All Fields])</QueryTranslation><WarningList><QuotedPhraseNotFound>\"CVCL 1690\"</QuotedPhraseNotFound></WarningList></eSearchResult>\\n'\n",
      "35013404\n",
      "34237644\n",
      "33453646\n",
      "32696817\n",
      "32029749\n",
      "30836914\n",
      "29704527\n",
      "29679856\n",
      "29660689\n",
      "29413989\n",
      "29301214\n",
      "29248440\n",
      "29174024\n",
      "28813102\n",
      "28698893\n",
      "28631525\n",
      "28403783\n",
      "28032511\n",
      "27745695\n",
      "27627067\n",
      "b'<?xml version=\"1.0\" encoding=\"UTF-8\" ?>\\n<!DOCTYPE eSummaryResult PUBLIC \"-//NLM//DTD esummary v1 20041029//EN\" \"https://eutils.ncbi.nlm.nih.gov/eutils/dtd/20041029/esummary-v1.dtd\">\\n<eSummaryResult>\\n<DocSum>\\n\\t<Id>35013404</Id>\\n\\t<Item Name=\"PubDate\" Type=\"Date\">2022 Jan 10</Item>\\n\\t<Item Name=\"EPubDate\" Type=\"Date\">2022 Jan 10</Item>\\n\\t<Item Name=\"Source\" Type=\"String\">Sci Rep</Item>\\n\\t<Item Name=\"AuthorList\" Type=\"List\">\\n\\t\\t<Item Name=\"Author\" Type=\"String\">Weissenrieder JS</Item>\\n\\t\\t<Item Name=\"Author\" Type=\"String\">Weissenkampen JD</Item>\\n\\t\\t<Item Name=\"Author\" Type=\"String\">Reed JL</Item>\\n\\t\\t<Item Name=\"Author\" Type=\"String\">Green MV</Item>\\n\\t\\t<Item Name=\"Author\" Type=\"String\">Zheng C</Item>\\n\\t\\t<Item Name=\"Author\" Type=\"String\">Neighbors JD</Item>\\n\\t\\t<Item Name=\"Author\" Type=\"String\">Liu DJ</Item>\\n\\t\\t<Item Name=\"Author\" Type=\"String\">Hohl RJ</Item>\\n\\t</Item>\\n\\t<Item Name=\"LastAuthor\" Type=\"String\">Hohl RJ</Item>\\n\\t<Item Name=\"Title\" Type=\"String\">RNAseq reveals extensive metabolic disruptions in the sensitive SF-295 cell line treated with schweinfurthins.</Item>\\n\\t<Item Name=\"Volume\" Type=\"String\">12</Item>\\n\\t<Item Name=\"Issue\" Type=\"String\">1</Item>\\n\\t<Item Name=\"Pages\" Type=\"String\">359</Item>\\n\\t<Item Name=\"LangList\" Type=\"List\">\\n\\t\\t<Item Name=\"Lang\" Type=\"String\">English</Item>\\n\\t</Item>\\n\\t<Item Name=\"NlmUniqueID\" Type=\"String\">101563288</Item>\\n\\t<Item Name=\"ISSN\" Type=\"String\"></Item>\\n\\t<Item Name=\"ESSN\" Type=\"String\">2045-2322</Item>\\n\\t<Item Name=\"PubTypeList\" Type=\"List\">\\n\\t\\t<Item Name=\"PubType\" Type=\"String\">Journal Article</Item>\\n\\t</Item>\\n\\t<Item Name=\"RecordStatus\" Type=\"String\">PubMed - indexed for MEDLINE</Item>\\n\\t<Item Name=\"PubStatus\" Type=\"String\">epublish</Item>\\n\\t<Item Name=\"ArticleIds\" Type=\"List\">\\n\\t\\t<Item Name=\"pubmed\" Type=\"String\">35013404</Item>\\n\\t\\t<Item Name=\"doi\" Type=\"String\">10.1038/s41598-021-04117-7</Item>\\n\\t\\t<Item Name=\"pii\" Type=\"String\">10.1038/s41598-021-04117-7</Item>\\n\\t\\t<Item Name=\"pmc\" Type=\"String\">PMC8748991</Item>\\n\\t\\t<Item Name=\"rid\" Type=\"String\">35013404</Item>\\n\\t\\t<Item Name=\"eid\" Type=\"String\">35013404</Item>\\n\\t\\t<Item Name=\"pmcid\" Type=\"String\">pmc-id: PMC8748991;</Item>\\n\\t</Item>\\n\\t<Item Name=\"DOI\" Type=\"String\">10.1038/s41598-021-04117-7</Item>\\n\\t<Item Name=\"History\" Type=\"List\">\\n\\t\\t<Item Name=\"received\" Type=\"Date\">2021/06/25 00:00</Item>\\n\\t\\t<Item Name=\"accepted\" Type=\"Date\">2021/11/29 00:00</Item>\\n\\t\\t<Item Name=\"entrez\" Type=\"Date\">2022/01/11 06:40</Item>\\n\\t\\t<Item Name=\"pubmed\" Type=\"Date\">2022/01/12 06:00</Item>\\n\\t\\t<Item Name=\"medline\" Type=\"Date\">2022/02/23 06:00</Item>\\n\\t</Item>\\n\\t<Item Name=\"References\" Type=\"List\"></Item>\\n\\t<Item Name=\"HasAbstract\" Type=\"Integer\">1</Item>\\n\\t<Item Name=\"PmcRefCount\" Type=\"Integer\">1</Item>\\n\\t<Item Name=\"FullJournalName\" Type=\"String\">Scientific reports</Item>\\n\\t<Item Name=\"ELocationID\" Type=\"String\">doi: 10.1038/s41598-021-04117-7</Item>\\n\\t<Item Name=\"SO\" Type=\"String\">2022 Jan 10;12(1):359</Item>\\n</DocSum>\\n\\n<DocSum>\\n\\t<Id>34237644</Id>\\n\\t<Item Name=\"PubDate\" Type=\"Date\">2021 Sep</Item>\\n\\t<Item Name=\"EPubDate\" Type=\"Date\">2021 Jul 1</Item>\\n\\t<Item Name=\"Source\" Type=\"String\">Bioorg Chem</Item>\\n\\t<Item Name=\"AuthorList\" Type=\"List\">\\n\\t\\t<Item Name=\"Author\" Type=\"String\">El-Dash Y</Item>\\n\\t\\t<Item Name=\"Author\" Type=\"String\">Elzayat E</Item>\\n\\t\\t<Item Name=\"Author\" Type=\"String\">Abdou AM</Item>\\n\\t\\t<Item Name=\"Author\" Type=\"String\">Hassan RA</Item>\\n\\t</Item>\\n\\t<Item Name=\"LastAuthor\" Type=\"String\">Hassan RA</Item>\\n\\t<Item Name=\"Title\" Type=\"String\">Novel thienopyrimidine-aminothiazole hybrids: Design, synthesis, antimicrobial screening, anticancer activity, effects on cell cycle profile, caspase-3 mediated apoptosis and VEGFR-2 inhibition.</Item>\\n\\t<Item Name=\"Volume\" Type=\"String\">114</Item>\\n\\t<Item Name=\"Issue\" Type=\"String\"></Item>\\n\\t<Item Name=\"Pages\" Type=\"String\">105137</Item>\\n\\t<Item Name=\"LangList\" Type=\"List\">\\n\\t\\t<Item Name=\"Lang\" Type=\"String\">English</Item>\\n\\t</Item>\\n\\t<Item Name=\"NlmUniqueID\" Type=\"String\">1303703</Item>\\n\\t<Item Name=\"ISSN\" Type=\"String\">0045-2068</Item>\\n\\t<Item Name=\"ESSN\" Type=\"String\">1090-2120</Item>\\n\\t<Item Name=\"PubTypeList\" Type=\"List\">\\n\\t\\t<Item Name=\"PubType\" Type=\"String\">Journal Article</Item>\\n\\t</Item>\\n\\t<Item Name=\"RecordStatus\" Type=\"String\">PubMed - indexed for MEDLINE</Item>\\n\\t<Item Name=\"PubStatus\" Type=\"String\">ppublish+epublish</Item>\\n\\t<Item Name=\"ArticleIds\" Type=\"List\">\\n\\t\\t<Item Name=\"pubmed\" Type=\"String\">34237644</Item>\\n\\t\\t<Item Name=\"pii\" Type=\"String\">S0045-2068(21)00514-9</Item>\\n\\t\\t<Item Name=\"doi\" Type=\"String\">10.1016/j.bioorg.2021.105137</Item>\\n\\t\\t<Item Name=\"rid\" Type=\"String\">34237644</Item>\\n\\t\\t<Item Name=\"eid\" Type=\"String\">34237644</Item>\\n\\t</Item>\\n\\t<Item Name=\"DOI\" Type=\"String\">10.1016/j.bioorg.2021.105137</Item>\\n\\t<Item Name=\"History\" Type=\"List\">\\n\\t\\t<Item Name=\"received\" Type=\"Date\">2021/03/18 00:00</Item>\\n\\t\\t<Item Name=\"revised\" Type=\"Date\">2021/05/12 00:00</Item>\\n\\t\\t<Item Name=\"accepted\" Type=\"Date\">2021/06/27 00:00</Item>\\n\\t\\t<Item Name=\"pubmed\" Type=\"Date\">2021/07/09 06:00</Item>\\n\\t\\t<Item Name=\"medline\" Type=\"Date\">2021/12/15 06:00</Item>\\n\\t\\t<Item Name=\"entrez\" Type=\"Date\">2021/07/08 20:27</Item>\\n\\t</Item>\\n\\t<Item Name=\"References\" Type=\"List\"></Item>\\n\\t<Item Name=\"HasAbstract\" Type=\"Integer\">1</Item>\\n\\t<Item Name=\"PmcRefCount\" Type=\"Integer\">6</Item>\\n\\t<Item Name=\"FullJournalName\" Type=\"String\">Bioorganic chemistry</Item>\\n\\t<Item Name=\"ELocationID\" Type=\"String\">doi: 10.1016/j.bioorg.2021.105137</Item>\\n\\t<Item Name=\"SO\" Type=\"String\">2021 Sep;114:105137</Item>\\n</DocSum>\\n\\n</eSummaryResult>\\n'\n"
     ]
    }
   ],
   "source": [
    "import requests\n",
    "\n",
    "#https://www.ncbi.nlm.nih.gov/books/NBK25500/#chapter1.For_More_Information_8\n",
    "\n",
    "import xml.etree.ElementTree as ET\n",
    "\n",
    "r = requests.get('https://eutils.ncbi.nlm.nih.gov/entrez/eutils/esearch.fcgi?db=pubmed&term=(\"CVCL 1690\" OR \"SF295\" OR \"SF-295\" OR \"SF 295\") AND (\"cell line\" OR \"cell-line\" OR \"cellular line\")')\n",
    "print(r.content)\n",
    "\n",
    "root = ET.fromstring(r.content)\n",
    "    \n",
    "for item in root.find('IdList'):\n",
    "    item_id = item.text\n",
    "    print(item_id)\n",
    "\n",
    "r2 = requests.get('https://eutils.ncbi.nlm.nih.gov/entrez/eutils/esummary.fcgi?db=pubmed&id=35013404,34237644')\n",
    "print(r2.content)"
   ]
  },
  {
   "cell_type": "code",
   "execution_count": null,
   "id": "80f00401-d46e-41d7-9cb3-905fcb6ecd58",
   "metadata": {},
   "outputs": [],
   "source": []
  }
 ],
 "metadata": {
  "kernelspec": {
   "display_name": "Python 3 (ipykernel)",
   "language": "python",
   "name": "python3"
  },
  "language_info": {
   "codemirror_mode": {
    "name": "ipython",
    "version": 3
   },
   "file_extension": ".py",
   "mimetype": "text/x-python",
   "name": "python",
   "nbconvert_exporter": "python",
   "pygments_lexer": "ipython3",
   "version": "3.9.12"
  }
 },
 "nbformat": 4,
 "nbformat_minor": 5
}
